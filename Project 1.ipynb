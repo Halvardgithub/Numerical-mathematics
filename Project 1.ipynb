{
 "cells": [
  {
   "cell_type": "markdown",
   "metadata": {},
   "source": [
    "# Singel channel source separation\n",
    "The real world application we want to study in this project is, as the title sugests, single channel source separation. This is for example used to seperate a combined image into two parts based on some given basises. In our case, these images will be a combination of the number one and zero. Therefore, we expect the separated images to be a zero and a one on their own. However, to be able to attack this problem, we first need to examine the properties of a few matrices, and also the theory behind the method in question.\n",
    "\n",
    "## Task 1 \n",
    "### a)"
   ]
  },
  {
   "cell_type": "markdown",
   "metadata": {},
   "source": [
    "For a matrix $A\\in \\mathbb{R}^{2x3}$, a vector $x\\in \\mathbb{R}^3$ and a vector $y\\in \\mathbb{R}^2$ we want to solve the system $Ax = b$. We can write this out as:\n",
    "$$\\begin{bmatrix}\n",
    "a_{11} & a_{12} & a_{13} \\\\\n",
    "a_{21} & a_{22} & a_{23}\n",
    "\\end{bmatrix}\n",
    "\\begin{bmatrix}\n",
    "x_1 \\\\\n",
    "x_2 \\\\\n",
    "x_3\n",
    "\\end{bmatrix}\n",
    "= \\begin{bmatrix}\n",
    "y_1 \\\\\n",
    "y_2\n",
    "\\end{bmatrix}\n",
    "$$\n",
    "This can be written as:\n",
    "$$\\begin{bmatrix}\n",
    "a_{11}x_1 + a_{12}x_2 + a_{13}x_3 \\\\\n",
    "a_{21}x_1 + a_{22}x_2 + a_{23}x_3\n",
    "\\end{bmatrix}\n",
    "= \\begin{bmatrix}\n",
    "y_1 \\\\\n",
    "y_2\n",
    "\\end{bmatrix}\n",
    "$$\n",
    "If we want a system with no solutions, an option is\n",
    "$$A_1 = \\begin{bmatrix}\n",
    "1 & 2 & 3 \\\\\n",
    "1 & 2 & 3\n",
    "\\end{bmatrix}\n",
    "\\text{ with  } y_1 = \\begin{bmatrix}\n",
    "1 \\\\\n",
    "-1\n",
    "\\end{bmatrix}\n",
    "$$\n",
    "Here we see that the left sides of the equations will be equal where as the right hand sides are different, so we can therefore not find a x-vector which satisfies both equations.\n",
    "\n",
    "If we on the flip side want an infinte amount of solutions, an example is as follows:\n",
    "$$A_2 = \\begin{bmatrix}\n",
    "1 & 2 & 3 \\\\\n",
    "3 & 2 & 1\n",
    "\\end{bmatrix}\n",
    "\\text{ with  } y_2 = \\begin{bmatrix}\n",
    "1 \\\\\n",
    "-1\n",
    "\\end{bmatrix}\n",
    "$$\n",
    "If we combine out two equations we get:\n",
    "$$3x_1 +2x_2 + x_3 = -x_1 -2x_2 - 3x_3 $$\n",
    "$$4x_1 + 4x_2 + 4x_3 = 0 $$\n",
    "Here we can set one of the variables to zero, for instance $x_2$, which grants\n",
    "$$4x_1 + 4x_3 = 0$$\n",
    "$$ x_1 = -x_3$$\n",
    "So one general solution is then $\\begin{bmatrix}\n",
    "k \\\\\n",
    "0 \\\\\n",
    "-k\n",
    "\\end{bmatrix} \\text{for all k}\\in \\mathbb{R}$. Worth noting that you can switch any pair of elements in the final x-vector, and it still satisfies the linear system of equations."
   ]
  },
  {
   "cell_type": "markdown",
   "metadata": {},
   "source": [
    "### b)"
   ]
  },
  {
   "cell_type": "markdown",
   "metadata": {},
   "source": [
    "Consider a matrix $A\\in \\mathbb{R}^{mxn}$ with $m < n$. What conclusions can we draw about $AA^T$ and $A^T A$?\n",
    "Lets start with investigating symmetry. We know that for a symmetric matrix, the relation $A = A^T$ is satisfied, so lets check this.\n",
    "Firstly $(AA^T)^T = (A^T)^T A^T = AA^T $ and secondly\n",
    "$(A^TA)^T = A^T(A^T)^T = A^TA $. This means that both $AA^T$ and $A^TA$ are symmetric matrices. \n",
    "\n",
    "Furthermore, we want to know whether they are positve semi definite or not. This is a property which is fulfilled if $x^TAx\\geq0$. For our matrices we get:\n",
    "$$ x^TAA^Tx \\geq0  \\qquad x^TA^TAx \\geq0$$\n",
    "$$ x^TA(x^TA)^T \\geq0 \\qquad (Ax)^TAx \\geq0 $$\n",
    "$$ \\|x^TA\\|^2 \\geq0 \\qquad \\|Ax\\|^2\\geq0 $$\n",
    "We clearly see that this is correct, because the norm of a matrix is always greater or equal to zero. Hence, both $AA^T$ and $A^T A$ are positive semi definite. When it comes to invertibility we know that a matrix is only invertible if and only if its rank is equal to the dimension. It is known that $A$ has full rank and that its dimension is $mxn$ with $m < n$. Since it is known that $ \\text{rank}(AB) \\leq \\text{min}(\\text{rank}(A), \\text{rank}(B))$, the rank of $A^TA$ is at max $m$ while its dimension is $nxn$, so $A^TA$ is not invertible. For $AA^T$ I found a proof at Statlect(https://www.statlect.com/matrix-algebra/matrix-product-and-rank) which states that given a $KxL$ matrix $B$ with rank $L$ and $K \\geq L$, it is known that $B^TB$ has full rank. Since our $A$ matrix is wide while the $B$ matrix is tall, we can swap out $B$ with $A^T$ and $B^T$ with $A$. This means that the product $AA^T$ has full rank, and is therefore invertible.\n"
   ]
  },
  {
   "cell_type": "markdown",
   "metadata": {},
   "source": [
    "### c)"
   ]
  },
  {
   "cell_type": "markdown",
   "metadata": {},
   "source": [
    "We now want to find the $x$-value with the minimal norm from the Lagrange function. To do this we must first calculate the different parial derivatives of the Lagrange function\n",
    "$$ L(x, \\lambda)= x^Tx + \\lambda^T(Ax-y), \\lambda \\in \\mathbb{R}^n $$  \n",
    "$$ L(x, \\lambda)= \\|x\\|^2 + \\lambda^TAx - \\lambda^Ty $$\n",
    "The partial derivative of x is then\n",
    "$$ \\nabla_xL(x, \\lambda) = 2x + A^T\\lambda$$\n",
    "This is because $\\frac{d}{dx}\\|x\\|^2 = 2x$ and $\\frac{d}{dx}d^Tx = d$ which means $\\frac{d}{dx}\\lambda^TAx = A^T\\lambda$.\n",
    "We then need the partial derivative with respect to $\\lambda$\n",
    "$$ \\nabla_{\\lambda}L(x, \\lambda) = \\nabla_{\\lambda} \\lambda^T(Ax - y) = \\nabla_{\\lambda} \\lambda^Tb, \\qquad b = Ax - y$$\n",
    "$$ \\nabla_{\\lambda} \\lambda^Tb = b = Ax-y $$\n",
    "So $ \\nabla_{\\lambda}L(x, \\lambda) = Ax - y $. To then find the minima we need to put both the partial derivatives to zero, and solve the equations.\n",
    "$$ Ax - y = 0 \\text{ and }2x + A^T\\lambda = 0 \\rightarrow x = \\frac{A^T\\lambda}{2} $$\n",
    "We then combine this with the equations to find an expression for $\\lambda$:\n",
    "$$ AA^T\\lambda = 2y \\rightarrow \\lambda = 2(AA^T)^{-1}y $$\n",
    "We then combine this with the expression for $x$ and get\n",
    "$$ x = \\frac{A^T2(AA^T)^{-1}y}{2} = A^T(AA^T)^{-1}y $$\n",
    "Since this $x$ is the minimal $x$-value, we can then write $ x_{min} = A^T(AA^T)^{-1}y $"
   ]
  },
  {
   "cell_type": "markdown",
   "metadata": {},
   "source": [
    "### d)"
   ]
  },
  {
   "cell_type": "markdown",
   "metadata": {},
   "source": [
    "We now want to rewrite the equation above with the correlation $ A^T = QR $.\n",
    "$$ x_{min}=A^T(AA^T)^{-1}y = QR(R^TQ^TQR)^{-1}y = QR(R^TR)^{-1}y = QRR^{-1}R^{-T}y = QR^{-T}y $$\n",
    "Above I used the fact that $Q^TQ=I$ because $Q$ is orthogonal and that $R$ multiplied with its inverse is the identity matrix.\n",
    "\n",
    "To find $x_{min}$ we then want to find a $Q$ and $R$ such that $A^T = QR$, as is our correlation above. We then want $Q$ to be orthogonal and $R$ to be upper trapezoidal. To do this we need to find the QR-decomposition, and I will do that using Gram-Schmidt. In the algorithm we need the columns of $A$, so to access them easier I transform $A$ and then just transform $Q$ at the end aswell.\n"
   ]
  },
  {
   "cell_type": "code",
   "execution_count": 1,
   "metadata": {},
   "outputs": [
    {
     "name": "stdout",
     "output_type": "stream",
     "text": [
      "Q @ Q.T:\n",
      "[[ 1.00000000e+00 -2.19098475e-16  2.50753550e-16]\n",
      " [-2.19098475e-16  1.00000000e+00  4.39774161e-17]\n",
      " [ 2.50753550e-16  4.39774161e-17  1.00000000e+00]]\n",
      "-------------------------------------\n",
      "R:\n",
      "[[1.41421356 0.70710678 0.70710678]\n",
      " [0.         1.22474487 0.40824829]\n",
      " [0.         0.         1.15470054]]\n",
      "-------------------------------------\n",
      "Q @ R:\n",
      "[[ 1.00000000e+00  1.00000000e+00  4.02426802e-17]\n",
      " [ 1.00000000e+00 -1.81125232e-16  1.00000000e+00]\n",
      " [ 0.00000000e+00  1.00000000e+00  1.00000000e+00]]\n"
     ]
    }
   ],
   "source": [
    "#Imports for the entire project\n",
    "import numpy as np\n",
    "import scipy.linalg\n",
    "import time\n",
    "import random\n",
    "import matplotlib.pyplot as plt\n",
    "\n",
    "def QR_decomposition(A): #Only works when m is greater or equal to n, where m is the length of a column\n",
    "    A = np.copy(A.T)\n",
    "    \n",
    "    #Define constants\n",
    "    m = len(A[0])\n",
    "    n = len(A)    \n",
    "    \n",
    "    #Calculates the initial values\n",
    "    u0 = A[0]\n",
    "    q0 = u0 / np.linalg.norm(u0)\n",
    "    Q_T = np.zeros((n, m))\n",
    "    Q_T[0] = q0 \n",
    "    \n",
    "    #Creates an empty 2D array\n",
    "    R = np.zeros((n, n))\n",
    "    \n",
    "    #Iterates through the matrix\n",
    "    for i in range(1, n):\n",
    "        ak = A[i]\n",
    "        uk = np.copy(ak)\n",
    "        for j in range(0, i ):\n",
    "            uk -= np.inner(ak, Q_T[j]) * Q_T[j] \n",
    "        qk = uk / np.linalg.norm(uk)\n",
    "        Q_T[i] = qk\n",
    "    \n",
    "    #Calculates the R based on Q and the weights\n",
    "    for i in range(0, n):\n",
    "        for j in range(i, n):\n",
    "            R[i][j] = np.inner(A[j], Q_T[i] ) \n",
    "    return (Q_T).T, R\n",
    "\n",
    "#Test\n",
    "A=np.array([[1, 1, 0],\n",
    "  [1, 0, 1],\n",
    "  [0, 1, 1]], dtype = \"float64\")\n",
    "\n",
    "Q, R =QR_decomposition(A)\n",
    "print(\"Q @ Q.T:\")\n",
    "print(Q@Q.T)\n",
    "print(\"-------------------------------------\")\n",
    "print(\"R:\")\n",
    "print(R)\n",
    "print(\"-------------------------------------\")\n",
    "B = Q @ R\n",
    "print(\"Q @ R:\")\n",
    "print(B)"
   ]
  },
  {
   "cell_type": "markdown",
   "metadata": {},
   "source": [
    "We see from the test above that $QQ^T = I$ because the elements with $10^{-16}$ is practically zero, it is just limited by the level of precision. Furthermore, $R$ is upper trapezoidal and we also see that $QR$ reconstructs our initial matrix A. So the implementation is at least sufficient for this example. "
   ]
  },
  {
   "cell_type": "markdown",
   "metadata": {},
   "source": [
    "### e)"
   ]
  },
  {
   "cell_type": "markdown",
   "metadata": {},
   "source": [
    "Since calculating the inverse of $R^T$ is quite costly, we would rather avoid this. Therefore, we want to find $x_{min}$ without using the inverse.\n",
    "$$ x_{min} = QR^{-T}y$$\n",
    "$$ Q^Tx_{min} = IR^{-T}y $$\n",
    "$$ R^TQ^Tx_{min} = y $$\n",
    "Here we can let $ z = Q^Tx_{min}$ and we then get $ R^Tz = y $ which we can solve with forward substitution. We then get $ Q^Tx_{min} = z $ and to find $ x_{min} $ we just need to multiply with $Q$, so $ x_{min} = Qz$.\n",
    "\n",
    "In the code below I have implemented this method."
   ]
  },
  {
   "cell_type": "code",
   "execution_count": 2,
   "metadata": {},
   "outputs": [],
   "source": [
    "def find_x_min(Q, R, y):\n",
    "    z = scipy.linalg.solve_triangular(R.T, y, lower=True)\n",
    "    x = Q @ z\n",
    "    return x"
   ]
  },
  {
   "cell_type": "markdown",
   "metadata": {},
   "source": [
    "### f)"
   ]
  },
  {
   "cell_type": "markdown",
   "metadata": {},
   "source": [
    "The two functions below are from the code which was handed out, and they are used to create a linear system with $A$, $x$ and $y$."
   ]
  },
  {
   "cell_type": "code",
   "execution_count": 3,
   "metadata": {},
   "outputs": [
    {
     "name": "stdout",
     "output_type": "stream",
     "text": [
      "(8096, 100)\n",
      "(2048, 100)\n"
     ]
    }
   ],
   "source": [
    "def generate_A(m,n):\n",
    "    \"\"\"\n",
    "    Generates m times n with correlated columns.\n",
    "    Input:\n",
    "        m: int, first dimension of A\n",
    "        n: int, second dimension of A\n",
    "    output:\n",
    "        A: (m,n) array\n",
    "    \"\"\"\n",
    "\n",
    "    cov_eigvecs = np.random.uniform(-1.0,1.0,(m,m))\n",
    "    cov = cov_eigvecs.T @ cov_eigvecs\n",
    "    v = np.sqrt(np.diag(cov))\n",
    "    outer_v = np.outer(v, v)\n",
    "    corr = cov / outer_v\n",
    "    corr[cov == 0] = 0\n",
    "    chol = scipy.linalg.cholesky(corr, lower=True) \n",
    "    A = np.random.normal(0, 1.0,(m,n))\n",
    "    A = np.dot(chol, A)\n",
    "    return A\n",
    "\n",
    "\n",
    "m = 2048\n",
    "n = 8096\n",
    "\n",
    "A = generate_A(m,n)\n",
    "\n",
    "N = 100 # Number of test data we want to generate\n",
    "\n",
    "# Generate solutions X columnwise, X[:,i] to access i-th vector\n",
    "X = np.random.normal(0.0,1.0,(A.shape[1],N))\n",
    "\n",
    "# Generate left hand sides Y columnwise Y[:,i] to access lhs\n",
    "Y = np.dot(A,X)\n",
    "\n",
    "# Doublecheck shapes\n",
    "print(X.shape) # Expect (n,N)\n",
    "print(Y.shape) # Expect (m,N)"
   ]
  },
  {
   "cell_type": "markdown",
   "metadata": {},
   "source": [
    "As we now have our $A$ and $y$, and also our actual solution $x$, we can test our implementation against the pre-existing functions in numpy. We are now interessted in primarily two parameters, the error and the computation time. For the time we are interested in both the computations we do just once, and then separatly the time to calculate the hundred minimal x-values."
   ]
  },
  {
   "cell_type": "code",
   "execution_count": 4,
   "metadata": {},
   "outputs": [
    {
     "name": "stdout",
     "output_type": "stream",
     "text": [
      "To calculate the matrices took 0.946 seconds\n",
      "The time to calculate the x for the 100 different y is 23.057 seconds\n"
     ]
    }
   ],
   "source": [
    "#Test for np.linalg.solve\n",
    "error = np.zeros(100)\n",
    "\n",
    "time0 = time.time()\n",
    "A_T = A.T\n",
    "B = A @ A_T\n",
    "time1 = time.time()\n",
    "print(\"To calculate the matrices took \" + str(round(time1 - time0, 3)) + \" seconds\")\n",
    "\n",
    "time0 = time.time()\n",
    "for i in range(0, 100):\n",
    "    z = np.linalg.solve(B, Y[:, i])\n",
    "    x_min = A_T @ z\n",
    "    error[i] = np.linalg.norm(x_min - X[:, i])\n",
    "          \n",
    "time1 = time.time()\n",
    "print(\"The time to calculate the x for the 100 different y is \" + str(round(time1 - time0, 3)) + \" seconds\")"
   ]
  },
  {
   "cell_type": "code",
   "execution_count": 5,
   "metadata": {},
   "outputs": [
    {
     "name": "stdout",
     "output_type": "stream",
     "text": [
      "To calculate the decomposition took 76.151 seconds\n",
      "The time to calculate the x for the 100 different y is 0.172 seconds\n"
     ]
    }
   ],
   "source": [
    "#Test with QR\n",
    "\n",
    "time0 = time.time()\n",
    "Q, R = QR_decomposition(A.T)\n",
    "time1 = time.time()\n",
    "print(\"To calculate the decomposition took \" + str(round(time1 - time0, 3)) + \" seconds\")\n",
    "\n",
    "time0 = time.time()\n",
    "\n",
    "X_new = find_x_min(Q, R, Y)\n",
    "\n",
    "time1 = time.time()\n",
    "\n",
    "print(\"The time to calculate the x for the 100 different y is \" + str(round(time1 - time0, 3)) + \" seconds\")"
   ]
  },
  {
   "cell_type": "code",
   "execution_count": 6,
   "metadata": {},
   "outputs": [
    {
     "data": {
      "image/png": "[encoded data removed]",
      "text/plain": [
       "<Figure size 432x288 with 1 Axes>"
      ]
     },
     "metadata": {
      "needs_background": "light"
     },
     "output_type": "display_data"
    },
    {
     "name": "stdout",
     "output_type": "stream",
     "text": [
      "The norm of the solution x0: 89.731\n"
     ]
    }
   ],
   "source": [
    "plt.figure()\n",
    "for i in range(0, 100):\n",
    "    x_val = np.linalg.norm(X_new[:, i] - X[:, i])\n",
    "    if ( i == 0):\n",
    "        plt.plot(i, x_val, 'ro', label=\"QR\")\n",
    "        plt.plot(i, error[i], 'xb', label = \"Numpy\")\n",
    "        \n",
    "    plt.plot(i, x_val, 'ro')\n",
    "    plt.plot(i, error[i], 'xb')\n",
    "\n",
    "plt.grid()\n",
    "plt.title(\"Comparison between the error with both methods\", size = 14)\n",
    "plt.xlabel(\"N\", size = 12)\n",
    "plt.ylabel(\"$ \\|x - x_{true}\\| $\", size = 12)\n",
    "plt.legend()\n",
    "plt.show()\n",
    "\n",
    "print(\"The norm of the solution x0: \" + str(round(np.linalg.norm(X[:, 0]), 3)))"
   ]
  },
  {
   "cell_type": "markdown",
   "metadata": {},
   "source": [
    "From the time tests above we clearly see that numpy.linalg is quicker overall in this scenario. However, our $QR$ method is actually a lot quicker at calculating the different $x_{min}$-values after the initial matrices are computed. This means that if we are calculating $n>>100$ different systems, the $QR$ method would be quicker than numpy.linalg. When it comes to the error, it is obvious from the plot above that the methods are totaly equivalent in terms of the deviation from the actual solution. It is also clear that the average error is more than $80$% off the norm of an actual solution $x_0$, so the relative error is quite large. Thus, our reconstuction is not very good.\n"
   ]
  },
  {
   "cell_type": "markdown",
   "metadata": {},
   "source": [
    "## Task 2\n",
    "### a)"
   ]
  },
  {
   "cell_type": "markdown",
   "metadata": {},
   "source": [
    "\n",
    "We are now interested in the Tihkonov regularisation which uses the fact that $x_r = \\text{arg min} \\|Ax - y\\|^2 \\text{ for all } x\\in \\mathbb{R}^n$. We then introduce a weight $\\mu$ greater than 0 and get the following expression: $$T(x) = \\|Ax - y\\|^2 + \\mu \\|x\\|^2  $$\n",
    "This is the expression we will examine further, and first off we will see what happens if $\\nabla_xT(x) = 0$.\n",
    "$$ \\nabla_xT(x) = 2A^TAx - 2y^TA + 2\\mu x = 0 $$\n",
    "$$ y^TA = A^TAx + \\mu x $$\n",
    "$$ y^TA = (A^TA + \\mu I)x $$\n",
    "$$ A^Ty = (A^TA + \\mu I)x $$\n",
    "Now lets take a look at $(A^TA + \\mu I)$, and start with if it is semi positive definite.\n",
    "$$ z^T(A^TA + \\mu I)z \\geq 0  $$\n",
    "$$ z^TA^TAz + z^T\\mu I z \\geq0 $$\n",
    "$$ (Az)^TAz + \\mu z^Tz \\geq0  $$\n",
    "$$ \\|Az\\|^2 + \\mu \\|z\\|^2 \\geq0 $$\n",
    "Since $\\mu>0$ and the norm of a matrix is greater or equal to zero, the expression above is correct and $(A^TA + \\mu I)$ is semi positive definite and thus also invertible."
   ]
  },
  {
   "cell_type": "markdown",
   "metadata": {},
   "source": [
    "## b)"
   ]
  },
  {
   "cell_type": "markdown",
   "metadata": {},
   "source": [
    "Lets now look at this in correlation with the singular value decomposition. This means that we can write $A = U\\Sigma V^T$ where $U$ and $V$ are unitary and $\\Sigma $ is a diagonal matrix with the eigenvalues of A.\n",
    "$$ A^Ty = (A^TA + \\mu I)x  $$\n",
    "$$ V\\Sigma U^T y = (V\\Sigma U^TU\\Sigma V^T + \\mu I)x $$\n",
    "$$ V\\Sigma U^T y = (V\\Sigma^2V^T + \\mu VV^T)x $$\n",
    "$$ V\\Sigma U^T y = (V\\Sigma^2V^T + V\\mu I V^T)x $$\n",
    "$$ V\\Sigma U^T y = (V(\\Sigma^2 +\\mu I) V^T)x $$\n",
    "$$ \\Sigma U^T y = (\\Sigma^2 +\\mu I) V^Tx $$\n",
    "$$ DU^T y = V^T x $$\n",
    "$$ VDU^T y = x $$\n",
    "Where $D$ is a diagonal matrix with $\\frac{\\sigma_i}{\\sigma_i^2 + \\mu}$ on the diagonal."
   ]
  },
  {
   "cell_type": "markdown",
   "metadata": {},
   "source": [
    "## c)"
   ]
  },
  {
   "cell_type": "markdown",
   "metadata": {},
   "source": [
    "The next step is to implement our solver. So given the elements of the singular value decomposition, $\\mu$ and $y$, the desired $x$ can be calculated."
   ]
  },
  {
   "cell_type": "code",
   "execution_count": 7,
   "metadata": {},
   "outputs": [
    {
     "name": "stdout",
     "output_type": "stream",
     "text": [
      "[[1. 0. 0. 0.]\n",
      " [0. 2. 0. 0.]\n",
      " [0. 0. 1. 0.]]\n",
      "[0.999001   0.49987503 0.999001   0.        ]\n"
     ]
    }
   ],
   "source": [
    "def Tikhonov_solveSVD(V, S, Ut, mu, y): #S is a vector with only the elements which would have been on the diagonal\n",
    "    #To avoid change in the input vector S\n",
    "    S = np.copy(S)\n",
    "    \n",
    "    #Replaces the values in S with the corresponding value in the matrix D from above\n",
    "    for i in range(len(S)):\n",
    "        S[i] = S[i] / (S[i]**2 + mu)\n",
    "    \n",
    "    x = V@np.diag(S) @Ut@y #Utilises np.diag(S) which just creates a diagonal matrix with S_i on the diagonal in row i\n",
    "    return x\n",
    "\n",
    "#Test\n",
    "M = np.array([[1, 0, 0, 0],\n",
    "             [0, 2, 0, 0],\n",
    "             [0, 0, 1, 0]], dtype=\"float64\")\n",
    "U, S, Vt = np.linalg.svd(M, full_matrices = False)\n",
    "print(U@np.diag(S)@Vt)\n",
    "\n",
    "y = np.array([1, 1, 1])\n",
    "print(Tikhonov_solveSVD(Vt.T, S, U.T, 0.001, y.T))"
   ]
  },
  {
   "cell_type": "markdown",
   "metadata": {},
   "source": [
    "The test above seems correct, as the intuitive understanding when $\\mu$ is close to zero, is approximatly the same as just solving the system."
   ]
  },
  {
   "cell_type": "markdown",
   "metadata": {},
   "source": [
    "## d)\n"
   ]
  },
  {
   "cell_type": "markdown",
   "metadata": {},
   "source": [
    "Its now time to explore how different values of $\\mu$ effect our solution. This can be done by creating a matrix $A$ with a vector $y$ and a corresponding solution $x$, and solving this system with many different values of $\\mu$. Since the solution $x$ is known, the error can be calculated with $e_i = \\| x_i - x_{true}\\|$. The $x_i$ can be calculated in different ways, and the two which will be compared below are either a combo of SVD and Tikhonov or numpys own implemented solver. I had some memory issues with $m = 2048$ and $n = 8096$, so i halved them both in the code below."
   ]
  },
  {
   "cell_type": "code",
   "execution_count": 8,
   "metadata": {},
   "outputs": [
    {
     "name": "stdout",
     "output_type": "stream",
     "text": [
      "To calculate the decomposition took 4.156 seconds\n",
      "The time to calculate the x for the 100 different mu is 42.403 seconds\n"
     ]
    },
    {
     "data": {
      "image/png": "[encoded data removed]",
      "text/plain": [
       "<Figure size 432x288 with 1 Axes>"
      ]
     },
     "metadata": {
      "needs_background": "light"
     },
     "output_type": "display_data"
    }
   ],
   "source": [
    "#With SVD and Tikhonov\n",
    "m = 1024\n",
    "n = 4048\n",
    "N = 100\n",
    "\n",
    "#To create the system\n",
    "A = generate_A(m,n)\n",
    "X = np.random.normal(0.0,1.0,(A.shape[1],1)).T[0].T\n",
    "Y = (np.dot(A,X)).T\n",
    "\n",
    "#Initialize the values of interest\n",
    "mu = np.logspace(6, -5, N)\n",
    "error_array = np.zeros(N)\n",
    "\n",
    "#Finds the desomposition\n",
    "time0 = time.time()\n",
    "U, S, Vt = np.linalg.svd(A, full_matrices = False)\n",
    "V = Vt.T\n",
    "Ut = U.T\n",
    "time1 = time.time()\n",
    "print(\"To calculate the decomposition took \" + str(round(time1 - time0, 3)) + \" seconds\")\n",
    "\n",
    "#Calculates x for the N different mu's and takes the norm between x_i and the actual solution X\n",
    "time0 = time.time()\n",
    "for i in range(0, N):\n",
    "    x = Tikhonov_solveSVD(V, S, Ut, mu[i], Y)\n",
    "    error_array[i] = np.linalg.norm(x-X)\n",
    "time1 = time.time()\n",
    "print(\"The time to calculate the x for the 100 different mu is \" + str(round(time1 - time0, 3)) + \" seconds\")\n",
    "\n",
    "#plot\n",
    "plt.figure()\n",
    "plt.title(\"Error plot for SVD\")\n",
    "plt.plot(mu, error_array)\n",
    "plt.xscale(\"log\")\n",
    "plt.grid()\n",
    "plt.xlabel(\"\\mu\")\n",
    "plt.ylabel(\"Error\")\n",
    "plt.show()"
   ]
  },
  {
   "cell_type": "code",
   "execution_count": 9,
   "metadata": {},
   "outputs": [
    {
     "name": "stdout",
     "output_type": "stream",
     "text": [
      "To calculate the matrices took 0.641 seconds\n",
      "The time to calculate the x for the 10 different mu is 18.932 seconds\n"
     ]
    },
    {
     "data": {
      "image/png": "[encoded data removed]",
      "text/plain": [
       "<Figure size 432x288 with 1 Axes>"
      ]
     },
     "metadata": {
      "needs_background": "light"
     },
     "output_type": "display_data"
    },
    {
     "name": "stdout",
     "output_type": "stream",
     "text": [
      "The norm of the solution x: 19.0\n"
     ]
    }
   ],
   "source": [
    "#With linalg.solve\n",
    "\n",
    "#Initialize the values of interest\n",
    "N = 10\n",
    "mu2 = np.logspace(5, -6, N)\n",
    "error_array2 = np.zeros(N)\n",
    "\n",
    "#Calculate the proponents which dont depend on mu\n",
    "time0 = time.time()\n",
    "b = A.T @ Y\n",
    "C = A.T @ A\n",
    "time1 = time.time()\n",
    "print(\"To calculate the matrices took \" + str(round(time1 - time0, 3)) + \" seconds\")\n",
    "\n",
    "#Calculates x for the N different mu's and takes the norm between x_i and the actual solution X \n",
    "time0 = time.time()\n",
    "for i in range(0, N):\n",
    "    x = np.linalg.solve(C + np.identity(n)*mu2[i], b)\n",
    "    error_array2[i] = np.linalg.norm(x-X)\n",
    "\n",
    "time1 = time.time()\n",
    "print(\"The time to calculate the x for the \" + str(N) +\" different mu is \" + str(round(time1 - time0, 3)) + \" seconds\")\n",
    "\n",
    "#plot\n",
    "plt.figure()\n",
    "plt.title(\"Error plot for np.linalg\")\n",
    "plt.plot(mu2, error_array2)\n",
    "plt.xscale(\"log\")\n",
    "plt.xlabel(\"\\mu\")\n",
    "plt.grid()\n",
    "plt.ylabel(\"Error\")\n",
    "plt.show()\n",
    "\n",
    "print(\"The norm of the solution x: \" + str(round(np.linalg.norm(X, 3))))"
   ]
  },
  {
   "cell_type": "markdown",
   "metadata": {},
   "source": [
    "From the tests above it is clear that the error in the two methods are very similar, but it is worth noting that the sample size for np.linalg is much smaller. Furthermore, it is clear that the method with SVD is quicker per iteration, even though np.linalg is quicker with the given values, but it only computes the error for $1/10$ the number that our SVD does. Hence, the method with SVD is more computationally efficient. Another observation is that the error seems to be at its lowest for $\\mu$ in the interval $[10^{-5}, 10^{-1}]$ where the norm is approximatly linear. However, no matter what $mu$ we choose, the error is always larger than the norm of $X$, which means our solutions are pretty much useless in this scenario."
   ]
  },
  {
   "cell_type": "markdown",
   "metadata": {},
   "source": [
    "## Task 3\n",
    "### a)"
   ]
  },
  {
   "cell_type": "markdown",
   "metadata": {},
   "source": [
    "Lets now consider a matrix $B = I - WW^T$ where $W$ is a matrix with pairwise orthonormal columns. This means that $WW^T \\neq I$ but $W^TW = I$. The properties of interest are symmetry, positive semi-definitness and if it is a projection. Lets start with projection, which is fulfilled if $B^2 = B$. \n",
    "$$ B^2 = (I-WW^T)(I-WW^T) $$\n",
    "$$ B^2 = I - WW^T - WW^T + WW^TWW^T $$\n",
    "$$ B^2 = I - WW^T - WW^T + WIW^T $$\n",
    "$$ B^2 = I - WW^T$$\n",
    "So $B$ is a projection, what about symmetry?\n",
    "It is clear that $I$ is symmetric and since $(WW^T)^T = WW^T$ it is clear that $WW^T$ is also symmetric. Hence, $B$ is the difference between two symmetric matrices which also makes $B$ symmetric. Furthermore, the eigenvalues are also of interest.\n",
    "$$ Bv = \\lambda v $$\n",
    "$$ B^2v = \\lambda B v $$\n",
    "$$ Bv = \\lambda \\lambda v $$\n",
    "$$ Bv = \\lambda^2 v $$\n",
    "Which means that both $\\lambda$ and $\\lambda^2$ is eigenvalues of $B$, so $\\lambda^2 = \\lambda$, and the only possible eigenvalues are zero and one.\n",
    "When it comes to SPD, $z^TBz \\geq 0$ must be shown to hold for every $z \\in \\mathbb{R}^n$. Since $B$ is normal, with the use of the spectral theorem, the following can be derived: $ B = Q\\Lambda Q^T$ where $Q$ is orthogonal and $\\Lambda$ has the eigenvalues of $B$ on the diagonal. Combining this gives the following:\n",
    "$$  z^TBz \\geq 0$$\n",
    "$$ z^TQ\\Lambda Q^Tz \\geq 0 $$\n",
    "Because all the eigenvalues of B are non-negative, we can then take the square root of $\\Lambda$ and still only have real numbers.\n",
    "$$ z^TQ\\Lambda^{1/2} \\Lambda^{1/2} Q^Tz \\geq 0 $$\n",
    "$$ (\\Lambda^{1/2} Q^Tz)^T \\Lambda^{1/2} Q^Tz \\geq 0 $$\n",
    "$$ \\| \\Lambda^{1/2} Q^Tz \\|^2 \\geq 0$$\n",
    "The norm is greater or equal to zero by definiton, so $B$ is SPD. "
   ]
  },
  {
   "cell_type": "markdown",
   "metadata": {},
   "source": [
    "## b)"
   ]
  },
  {
   "cell_type": "markdown",
   "metadata": {},
   "source": [
    "\n",
    "Its now time to implement our results so far on a real life problem with imaging. The particular problem is called single channel source separation. Our scenario will use two basises with images and try to seperate a combination of two pictures into the two original images. Our two basises consist of sixteen zeros or sixteen ones and are assumed to form orthogonal basises $W_0$ and $W_1$. For the following it is necessary to establish a few correlations: \n",
    "\n",
    "Firstly $A = [I \\quad I]$, secondly\n",
    "$B = \\begin{bmatrix}\n",
    "B_0 & 0 \\\\\n",
    "0 & B_1\n",
    "\\end{bmatrix}$\n",
    "where $B_i = I - W_iW_i^T$. Furthermore, define $x = \\begin{pmatrix}\n",
    "u \\\\\n",
    "v\n",
    "\\end{pmatrix}$ where $u$ is a zero-image and $v$ is a one-image, so they are from different basises.\n",
    "We can then solve this with the following Lagrangian similarly to in Task 1.\n",
    "$$ L(x, \\lambda) = \\frac{1}{2}x^TBx + \\lambda^T(Ax - y) $$\n",
    "The first step is to calculate the respective gradients for $L(x, \\lambda)$. Using the fact that $\\nabla _xx^TCx = (C + C^T)x$ gives:\n",
    "$$ \\nabla_xL(x, \\lambda) = \\frac{1}{2}(B + B^T)x + A^T\\lambda \\text{ and } \\nabla_{\\lambda}L(x, \\lambda) = Ax - y $$\n",
    "Setting the two gradients equal to zero grants the following system:\n",
    "$$ \\begin{bmatrix}\n",
    "\\frac{1}{2}(B + B^T) & A^T \\\\\n",
    "A & 0\n",
    "\\end{bmatrix}\n",
    "\\begin{bmatrix}\n",
    "x \\\\\n",
    "\\lambda\n",
    "\\end{bmatrix}\n",
    "= \\begin{bmatrix}\n",
    "0 \\\\\n",
    "y\n",
    "\\end{bmatrix}\n",
    "$$\n",
    "Based on some of the correlations above, the system above can be rewritten. It is clear that $\\frac{1}{2}(B + B^T) = B$ and that $A^T = \\begin{bmatrix} I \\\\ I \\end{bmatrix}$, the system can then be written as:\n",
    "$$ \\begin{bmatrix}\n",
    "B_0 & 0 & I \\\\\n",
    "0 & B_1 & I \\\\\n",
    "I & I & 0\n",
    "\\end{bmatrix}\n",
    "\\begin{bmatrix}\n",
    "u \\\\\n",
    "v \\\\\n",
    "\\lambda\n",
    "\\end{bmatrix}\n",
    "= \\begin{bmatrix}\n",
    "0 \\\\\n",
    "0 \\\\\n",
    "y\n",
    "\\end{bmatrix}\n",
    "$$\n",
    "Substituting for $B_0$ and $B_1$ then yields:\n",
    "$$ \\begin{bmatrix}\n",
    "I - W_0W_0^T & 0 & I \\\\\n",
    "0 & I - W_1W_1^T & I \\\\\n",
    "I & I & 0\n",
    "\\end{bmatrix}\n",
    "\\begin{bmatrix}\n",
    "u \\\\\n",
    "v \\\\\n",
    "\\lambda\n",
    "\\end{bmatrix}\n",
    "= \\begin{bmatrix}\n",
    "0 \\\\\n",
    "0 \\\\\n",
    "y\n",
    "\\end{bmatrix}\n",
    "$$\n",
    "The matrices above yields the following equations:\n",
    "$$ B_0u + \\lambda I = 0 $$\n",
    "$$ B_1v + \\lambda I = 0 $$\n",
    "$$ u + v = y $$\n",
    "The next step is to eliminate $\\lambda$ from the system. This can be done by combining the first and second equations to $ B_0 u = B_1 v $. Rearanging the third equation into $ v = y - u $ can then be swapped with the y from the combined equation above. This gives:\n",
    "$$ B_0 u = B_1 (y - u)  $$\n",
    "$$ B_0 u = B_1y - B_1u $$\n",
    "$$ (B_0 + B_1)u = B_1 y $$\n",
    "$$ Cu = d $$\n",
    "Where $C = (B_0 + B_1) $ and $d = B_1 y$. The final step is then to combine this to a numeric method, and test if it actually works. To do this I use the provided data and also some handed out code in the two code chunks below. The first cell creates 100 mixed images and prints two of the 100 images to see some examples."
   ]
  },
  {
   "cell_type": "code",
   "execution_count": 10,
   "metadata": {},
   "outputs": [
    {
     "name": "stdout",
     "output_type": "stream",
     "text": [
      "(784, 100)\n"
     ]
    },
    {
     "data": {
      "image/png": "[encoded data removed]",
      "text/plain": [
       "<Figure size 432x288 with 1 Axes>"
      ]
     },
     "metadata": {
      "needs_background": "light"
     },
     "output_type": "display_data"
    },
    {
     "data": {
      "image/png": "[encoded data removed]",
      "text/plain": [
       "<Figure size 432x288 with 1 Axes>"
      ]
     },
     "metadata": {
      "needs_background": "light"
     },
     "output_type": "display_data"
    }
   ],
   "source": [
    "Mixes = np.load('Data/mixed.npy')\n",
    "print(Mixes.shape) # Should be (784,100)\n",
    "\n",
    "plt.imshow(Mixes[:,1].reshape((28,28)), cmap = 'gray')\n",
    "plt.axis('off') # Removes the x and y axis to plot only the image\n",
    "plt.show()\n",
    "\n",
    "plt.imshow(Mixes[:,32].reshape((28,28)), cmap = 'gray')\n",
    "plt.axis('off') # Removes the x and y axis to plot only the image\n",
    "plt.show()"
   ]
  },
  {
   "cell_type": "markdown",
   "metadata": {},
   "source": [
    "The chunck below loads the basises from the provided data and prints the first basis-image of $W_0$ and then the image of the product $W_0^TW_0$, which clearly resembles the identity matrix, which it is supposed to based on our assumptions."
   ]
  },
  {
   "cell_type": "code",
   "execution_count": 11,
   "metadata": {},
   "outputs": [
    {
     "name": "stdout",
     "output_type": "stream",
     "text": [
      "(784, 16)\n",
      "(784, 16)\n"
     ]
    },
    {
     "data": {
      "image/png": "[encoded data removed]",
      "text/plain": [
       "<Figure size 432x288 with 1 Axes>"
      ]
     },
     "metadata": {
      "needs_background": "light"
     },
     "output_type": "display_data"
    },
    {
     "data": {
      "image/png": "[encoded data removed]",
      "text/plain": [
       "<Figure size 432x288 with 1 Axes>"
      ]
     },
     "metadata": {
      "needs_background": "light"
     },
     "output_type": "display_data"
    }
   ],
   "source": [
    "W0 = np.load('Data/W0.npy')\n",
    "W1 = np.load('Data/W1.npy')\n",
    "print(W0.shape) # Should be (784,16)\n",
    "print(W1.shape) # Should be (784,16)\n",
    "\n",
    "plt.imshow(W0[:,0].reshape((28,28)), cmap = 'gray')\n",
    "plt.axis('off')\n",
    "plt.show()\n",
    "\n",
    "W0TW0 = np.dot(W0.T, W0)\n",
    "plt.imshow(W0TW0)\n",
    "plt.show()"
   ]
  },
  {
   "cell_type": "markdown",
   "metadata": {},
   "source": [
    "Since we now have our actual data, the next step is the solver based on the theory from above."
   ]
  },
  {
   "cell_type": "code",
   "execution_count": 12,
   "metadata": {},
   "outputs": [],
   "source": [
    "def minimal_norm(B0, B1, y):\n",
    "    C = B0 + B1\n",
    "    d = B1 @ y\n",
    "    u = np.linalg.solve(C, d)\n",
    "    v = y - u\n",
    "    return u, v"
   ]
  },
  {
   "cell_type": "markdown",
   "metadata": {},
   "source": [
    "### d) "
   ]
  },
  {
   "cell_type": "markdown",
   "metadata": {},
   "source": [
    "Its now time to test the implementation on the provided data set of a hundrer images with the following basises."
   ]
  },
  {
   "cell_type": "code",
   "execution_count": 13,
   "metadata": {},
   "outputs": [
    {
     "name": "stdout",
     "output_type": "stream",
     "text": [
      "The time to calculate the 100 channel separations was 2.018 seconds\n"
     ]
    },
    {
     "data": {
      "image/png": "[encoded data removed]",
      "text/plain": [
       "<Figure size 432x288 with 4 Axes>"
      ]
     },
     "metadata": {
      "needs_background": "light"
     },
     "output_type": "display_data"
    },
    {
     "data": {
      "image/png": "[encoded data removed]",
      "text/plain": [
       "<Figure size 432x288 with 4 Axes>"
      ]
     },
     "metadata": {
      "needs_background": "light"
     },
     "output_type": "display_data"
    },
    {
     "data": {
      "image/png": "[encoded data removed]",
      "text/plain": [
       "<Figure size 432x288 with 4 Axes>"
      ]
     },
     "metadata": {
      "needs_background": "light"
     },
     "output_type": "display_data"
    },
    {
     "data": {
      "image/png": "[encoded data removed]",
      "text/plain": [
       "<Figure size 432x288 with 4 Axes>"
      ]
     },
     "metadata": {
      "needs_background": "light"
     },
     "output_type": "display_data"
    },
    {
     "data": {
      "image/png": "[encoded data removed]",
      "text/plain": [
       "<Figure size 432x288 with 4 Axes>"
      ]
     },
     "metadata": {
      "needs_background": "light"
     },
     "output_type": "display_data"
    }
   ],
   "source": [
    "#Some constans and initialisation\n",
    "num_im = len(Mixes[0]) #The number of images \n",
    "num = len(Mixes)       #The number of values in one image-vector\n",
    "B0 = np.identity(num) - W0 @ W0.T\n",
    "B1 = np.identity(num) - W1 @ W1.T\n",
    "u_array = np.zeros((num_im, num))\n",
    "v_array = np.zeros((num_im, num))\n",
    "\n",
    "#Calculates the channel separation for the 100 combined images\n",
    "time0 = time.time()\n",
    "for i in range(0, num_im):\n",
    "    u, v = minimal_norm(B0, B1, Mixes[:, i])\n",
    "    u_array[i] = u\n",
    "    v_array[i] = v\n",
    "time1 = time.time()\n",
    "print(\"The time to calculate the 100 channel separations was \" + str(round(time1 - time0, 3)) + \" seconds\")\n",
    "\n",
    "#test\n",
    "for i in range(0, 50, 10):\n",
    "    u = u_array[i]\n",
    "    v = v_array[i]\n",
    "\n",
    "    plt.subplot(141)\n",
    "    plt.imshow(Mixes[:,i].reshape((28,28)), cmap = 'gray')\n",
    "    plt.axis('off')\n",
    "\n",
    "    plt.subplot(142)\n",
    "    plt.imshow(u.reshape((28,28)), cmap = 'gray')\n",
    "    plt.axis('off')\n",
    "\n",
    "    plt.subplot(143)\n",
    "    plt.imshow(v.reshape((28,28)), cmap = 'gray')\n",
    "    plt.axis('off')\n",
    "\n",
    "    plt.subplot(144)\n",
    "    plt.imshow((u+v).reshape((28,28)), cmap = 'gray')\n",
    "    plt.axis('off')\n",
    "\n",
    "    plt.show()"
   ]
  },
  {
   "cell_type": "markdown",
   "metadata": {},
   "source": [
    "The figures above are five specific examples where the picture on the left is our input, the combined picture. The next two columns are respectfully $u$ and $v$ and the last column is the reconstructed image from $u + v$. From the plots above I would argue that our method seems sound. The $u$ and $v$ match our initial image very well, even though the colors are a bit off, the positioning off the numbers is spot on. I also think it is likely that the difference in the gray-scale between images just stems from how the colormaps work. The process is also very fast with out given data, so that is a huge plus."
   ]
  },
  {
   "cell_type": "markdown",
   "metadata": {},
   "source": [
    "To conclude, I would say that the singel channel source separation worked well for our problem. The reconstructions are good and the runtime is short. However, some of the methods used earlier in the project performed suprisingly bad. In task 1 f) and task 2 d), the $x$-values we find are barely closer, or even worse, to the true solution than $x = 0$, which is very poor. On top off that, the runtime is also somewhat exstensive. "
   ]
  }
 ],
 "metadata": {
  "kernelspec": {
   "display_name": "Python 3",
   "language": "python",
   "name": "python3"
  },
  "language_info": {
   "codemirror_mode": {
    "name": "ipython",
    "version": 3
   },
   "file_extension": ".py",
   "mimetype": "text/x-python",
   "name": "python",
   "nbconvert_exporter": "python",
   "pygments_lexer": "ipython3",
   "version": "3.8.3"
  }
 },
 "nbformat": 4,
 "nbformat_minor": 4
}
